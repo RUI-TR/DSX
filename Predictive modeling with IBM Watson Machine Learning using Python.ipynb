{
    "cells": [
        {
            "cell_type": "markdown", 
            "metadata": {}, 
            "source": "<table style=\"border: none\" align=\"left\">\n   <tr style=\"border: none\">\n      <th style=\"border: none\"><font face=\"verdana\" size=\"5\" color=\"black\"><b>Predict outdoor equipment purchase with IBM Watson Machine Learning</b></th>\n      <th style=\"border: none\"><img src=\"https://github.com/pmservice/customer-satisfaction-prediction/blob/master/app/static/images/ml_icon_gray.png?raw=true\" alt=\"Watson Machine Learning icon\" height=\"40\" width=\"40\"></th>\n   </tr>\n   <tr style=\"border: none\">\n       <th style=\"border: none\"><img src=\"https://github.com/pmservice/wml-sample-models/blob/master/spark/product-line-prediction/images/products_graphics.png?raw=true\" alt=\"Icon\"> </th>\n   </tr>\n</table>"
        }, 
        {
            "cell_type": "markdown", 
            "metadata": {}, 
            "source": "This notebook contains steps and code to get data from the IBM Data Science Experience Community, create a predictive model, and start scoring new data. This notebook introduces commands for getting data and for basic data cleaning and exploration, pipeline creation, model training, model persistence to Watson Machine Learning repository, model deployment, and scoring.\n\nSome familiarity with Python is helpful. This notebook uses Python 2.0 and Apache\u00ae Spark 2.0.\n\nYou will use a publicly available data set, **GoSales Transactions for Naive Bayes Model**, which details anonymous outdoor equipment purchases. Use the details of this data set to predict clients' interests in terms of product line, such as golf accessories, camping equipment, and others.\n\n## Learning goals\n\nThe learning goals of this notebook are:\n\n-  Load a CSV file into an Apache\u00ae Spark DataFrame.\n-  Explore data.\n-  Prepare data for training and evaluation.\n-  Create an Apache\u00ae Spark machine learning pipeline.\n-  Train and evaluate a model.\n-  Persist a pipeline and model in Watson Machine Learning repository.\n-  Deploy a model for online scoring using Wastson Machine Learning API.\n-  Score sample scoring data using the Watson Machine Learning API.\n-  Explore and visualize prediction result using the Plotly package.\n\n\n## Contents\n\nThis notebook contains the following parts:\n\n1.\t[Setup](#setup)\n2.\t[Load and explore data](#load)\n3.\t[Create spark ml model](#model)\n4.\t[Persist the model](#persistence)\n5.\t[Predict locally and visualize](#visualization)\n6.\t[Deploy and score in a Cloud](#scoring)\n7.\t[Summary and next steps](#summary)"
        }, 
        {
            "cell_type": "markdown", 
            "metadata": {}, 
            "source": "<a id=\"setup\"></a>\n## 1. Setup\n\nBefore you use the sample code in this notebook, you must perform the following setup tasks:\n\n-  Create a [Watson Machine Learning Service](https://console.ng.bluemix.net/catalog/services/ibm-watson-machine-learning/) instance (a free plan is offered). \n-  Upload **GoSales Transactions** data as a data asset in IBM Data Science Experience.\n-  Make sure that you are using a Spark 2.0 kernel.\n\n### Create the GoSales Transactions Data Asset  \n\nThe GOSales data is a freely available data set on the Data Science Experience home page.\n\n1.  Go to the [GoSales Transactions for Naive Bayes Model](https://apsportal.ibm.com/exchange/public/entry/view/8044492073eb964f46597b4be06ff5ea) data card on the Data Science Experience Community.\n2.  Click the link icon.\n4.  Select the link, copy it by pressing Ctrl+C, and then, click **Close**.\n5.  In the cell in the next section, replace the **link_to_data** variable value with the link."
        }, 
        {
            "cell_type": "markdown", 
            "metadata": {}, 
            "source": "<a id=\"load\"></a>\n## 2. Load and explore data"
        }, 
        {
            "cell_type": "markdown", 
            "metadata": {}, 
            "source": "In this section you will load the data as an Apache\u00ae Spark DataFrame and perform a basic exploration.\n\nLoad the data to the Spark DataFrame by using *wget* to upload the data to gpfs and then run the *read* method. "
        }, 
        {
            "cell_type": "markdown", 
            "metadata": {}, 
            "source": "**Example**: First, you need to install required packages. You can do it by running the following code. Run it only one time.<BR><BR>\n!pip install wget --user <BR>"
        }, 
        {
            "cell_type": "code", 
            "metadata": {
                "collapsed": false
            }, 
            "outputs": [
                {
                    "name": "stdout", 
                    "text": "GoSales_Tx_NaiveBayes.csv\n", 
                    "output_type": "stream"
                }
            ], 
            "execution_count": 5, 
            "source": "import wget\n\nlink_to_data = 'https://apsportal.ibm.com/exchange-api/v1/entries/8044492073eb964f46597b4be06ff5ea/data?accessKey=9561295fa407698694b1e254d0099600'\nfilename = wget.download(link_to_data)\n\nprint filename"
        }, 
        {
            "cell_type": "markdown", 
            "metadata": {}, 
            "source": "The csv file `GoSales_Tx_NaiveBayes.csv` is available on gpfs now. Load the file to Apache\u00ae Spark DataFrame using code below."
        }, 
        {
            "cell_type": "code", 
            "metadata": {
                "collapsed": false
            }, 
            "outputs": [
                {
                    "metadata": {}, 
                    "output_type": "execute_result", 
                    "data": {
                        "text/plain": "[Row(PRODUCT_LINE=u'Personal Accessories', GENDER=u'M', AGE=27, MARITAL_STATUS=u'Single', PROFESSION=u'Professional'),\n Row(PRODUCT_LINE=u'Personal Accessories', GENDER=u'F', AGE=39, MARITAL_STATUS=u'Married', PROFESSION=u'Other'),\n Row(PRODUCT_LINE=u'Mountaineering Equipment', GENDER=u'F', AGE=39, MARITAL_STATUS=u'Married', PROFESSION=u'Other'),\n Row(PRODUCT_LINE=u'Personal Accessories', GENDER=u'F', AGE=56, MARITAL_STATUS=u'Unspecified', PROFESSION=u'Hospitality'),\n Row(PRODUCT_LINE=u'Golf Equipment', GENDER=u'M', AGE=45, MARITAL_STATUS=u'Married', PROFESSION=u'Retired')]"
                    }, 
                    "execution_count": 7
                }
            ], 
            "execution_count": 7, 
            "source": "spark = SparkSession.builder.getOrCreate()\n\ndf_data = spark.read\\\n  .format('org.apache.spark.sql.execution.datasources.csv.CSVFileFormat')\\\n  .option('header', 'true')\\\n  .option('inferSchema', 'true')\\\n  .load(filename)\ndf_data.take(5)"
        }, 
        {
            "cell_type": "markdown", 
            "metadata": {}, 
            "source": "Explore the loaded data by using the following Apache\u00ae Spark DataFrame methods:\n-  print schema\n-  print top ten records\n-  count all records"
        }, 
        {
            "cell_type": "code", 
            "metadata": {
                "collapsed": false
            }, 
            "outputs": [
                {
                    "name": "stdout", 
                    "text": "root\n |-- PRODUCT_LINE: string (nullable = true)\n |-- GENDER: string (nullable = true)\n |-- AGE: integer (nullable = true)\n |-- MARITAL_STATUS: string (nullable = true)\n |-- PROFESSION: string (nullable = true)\n\n", 
                    "output_type": "stream"
                }
            ], 
            "execution_count": 8, 
            "source": "df_data.printSchema()"
        }, 
        {
            "cell_type": "markdown", 
            "metadata": {}, 
            "source": "As you can see, the data contains five fields. PRODUCT_LINE field is the one we would like to predict (label)."
        }, 
        {
            "cell_type": "code", 
            "metadata": {
                "collapsed": false
            }, 
            "outputs": [
                {
                    "name": "stdout", 
                    "text": "+--------------------+------+---+--------------+------------+\n|        PRODUCT_LINE|GENDER|AGE|MARITAL_STATUS|  PROFESSION|\n+--------------------+------+---+--------------+------------+\n|Personal Accessories|     M| 27|        Single|Professional|\n|Personal Accessories|     F| 39|       Married|       Other|\n|Mountaineering Eq...|     F| 39|       Married|       Other|\n|Personal Accessories|     F| 56|   Unspecified| Hospitality|\n|      Golf Equipment|     M| 45|       Married|     Retired|\n|      Golf Equipment|     M| 45|       Married|     Retired|\n|   Camping Equipment|     F| 39|       Married|       Other|\n|   Camping Equipment|     F| 49|       Married|       Other|\n|  Outdoor Protection|     F| 49|       Married|       Other|\n|      Golf Equipment|     M| 47|       Married|     Retired|\n|      Golf Equipment|     M| 47|       Married|     Retired|\n|Mountaineering Eq...|     M| 21|        Single|      Retail|\n|Personal Accessories|     F| 66|       Married|       Other|\n|   Camping Equipment|     F| 35|       Married|Professional|\n|Mountaineering Eq...|     M| 20|        Single|       Sales|\n|Mountaineering Eq...|     M| 20|        Single|       Sales|\n|Mountaineering Eq...|     M| 20|        Single|       Sales|\n|Personal Accessories|     F| 37|        Single|       Other|\n|   Camping Equipment|     M| 42|       Married|       Other|\n|   Camping Equipment|     F| 24|       Married|      Retail|\n+--------------------+------+---+--------------+------------+\nonly showing top 20 rows\n\n", 
                    "output_type": "stream"
                }
            ], 
            "execution_count": 9, 
            "source": "df_data.show()"
        }, 
        {
            "cell_type": "code", 
            "metadata": {
                "collapsed": false
            }, 
            "outputs": [
                {
                    "metadata": {}, 
                    "output_type": "execute_result", 
                    "data": {
                        "text/plain": "60252"
                    }, 
                    "execution_count": 10
                }
            ], 
            "execution_count": 10, 
            "source": "df_data.count()"
        }, 
        {
            "cell_type": "markdown", 
            "metadata": {}, 
            "source": "As you can see, the data set contains 60252 records."
        }, 
        {
            "cell_type": "markdown", 
            "metadata": {}, 
            "source": "<a id=\"model\"></a>\n## 3. Create an Apache\u00ae Spark machine learning model\n\nIn this section you will learn how to prepare data, create an Apache\u00ae Spark machine learning pipeline, and train a model."
        }, 
        {
            "cell_type": "markdown", 
            "metadata": {}, 
            "source": "### 3.1: Prepare data\n\nSplit your data into the train, test, and predict data sets:"
        }, 
        {
            "cell_type": "code", 
            "metadata": {
                "collapsed": false
            }, 
            "outputs": [
                {
                    "name": "stdout", 
                    "text": "Number of training records: 48176\nNumber of testing records : 10860\nNumber of prediction records : 1216\n", 
                    "output_type": "stream"
                }
            ], 
            "execution_count": 11, 
            "source": "splitted_data = df_data.randomSplit([0.8, 0.18, 0.02], 24)\ntrain_data = splitted_data[0]\ntest_data = splitted_data[1]\npredict_data = splitted_data[2]\n\nprint \"Number of training records: \" + str(train_data.count())\nprint \"Number of testing records : \" + str(test_data.count())\nprint \"Number of prediction records : \" + str(predict_data.count())"
        }, 
        {
            "cell_type": "markdown", 
            "metadata": {}, 
            "source": "The data has been split into three data sets: \n\n-  The train data set, which is the largest group, is used for training.\n-  The test data set is used for model evaluation and to test the assumptions of the model.\n-  The predict data set is used for predictions."
        }, 
        {
            "cell_type": "markdown", 
            "metadata": {}, 
            "source": "### 3.2: Create pipeline and train a model"
        }, 
        {
            "cell_type": "markdown", 
            "metadata": {}, 
            "source": "In this section you will create an Apache\u00ae Spark machine learning pipeline and then train the model."
        }, 
        {
            "cell_type": "markdown", 
            "metadata": {}, 
            "source": "Import the Apache\u00ae Spark machine learning packages that you'll need in the subsequent steps:"
        }, 
        {
            "cell_type": "code", 
            "metadata": {
                "collapsed": false
            }, 
            "outputs": [], 
            "execution_count": 13, 
            "source": "from pyspark.ml.feature import OneHotEncoder, StringIndexer, IndexToString, VectorAssembler\nfrom pyspark.ml.classification import RandomForestClassifier\nfrom pyspark.ml.evaluation import MulticlassClassificationEvaluator\nfrom pyspark.ml import Pipeline, Model"
        }, 
        {
            "cell_type": "markdown", 
            "metadata": {}, 
            "source": "Convert all the string fields to numeric ones by using the StringIndexer transformer:"
        }, 
        {
            "cell_type": "code", 
            "metadata": {
                "collapsed": false
            }, 
            "outputs": [], 
            "execution_count": 14, 
            "source": "stringIndexer_label = StringIndexer(inputCol=\"PRODUCT_LINE\", outputCol=\"label\").fit(df_data)\nstringIndexer_prof = StringIndexer(inputCol=\"PROFESSION\", outputCol=\"PROFESSION_IX\")\nstringIndexer_gend = StringIndexer(inputCol=\"GENDER\", outputCol=\"GENDER_IX\")\nstringIndexer_mar = StringIndexer(inputCol=\"MARITAL_STATUS\", outputCol=\"MARITAL_STATUS_IX\")"
        }, 
        {
            "cell_type": "markdown", 
            "metadata": {}, 
            "source": "Create a feature vector by combining all features together:"
        }, 
        {
            "cell_type": "code", 
            "metadata": {
                "collapsed": true
            }, 
            "outputs": [], 
            "execution_count": 15, 
            "source": "vectorAssembler_features = VectorAssembler(inputCols=[\"GENDER_IX\", \"AGE\", \"MARITAL_STATUS_IX\", \"PROFESSION_IX\"], outputCol=\"features\")"
        }, 
        {
            "cell_type": "markdown", 
            "metadata": {}, 
            "source": "Next, define the estimators you want to use for classification. Random Forest is used in the following example."
        }, 
        {
            "cell_type": "code", 
            "metadata": {
                "collapsed": true
            }, 
            "outputs": [], 
            "execution_count": 16, 
            "source": "rf = RandomForestClassifier(labelCol=\"label\", featuresCol=\"features\")"
        }, 
        {
            "cell_type": "markdown", 
            "metadata": {}, 
            "source": "Finally, convert indexed labels back to original labels:"
        }, 
        {
            "cell_type": "code", 
            "metadata": {
                "collapsed": false
            }, 
            "outputs": [], 
            "execution_count": 17, 
            "source": "labelConverter = IndexToString(inputCol=\"prediction\", outputCol=\"predictedLabel\", labels=stringIndexer_label.labels)"
        }, 
        {
            "cell_type": "markdown", 
            "metadata": {}, 
            "source": "Now build the pipeline. A pipeline consists of transformers and an estimator."
        }, 
        {
            "cell_type": "code", 
            "metadata": {
                "collapsed": false
            }, 
            "outputs": [], 
            "execution_count": 18, 
            "source": "pipeline_rf = Pipeline(stages=[stringIndexer_label, stringIndexer_prof, stringIndexer_gend, stringIndexer_mar, vectorAssembler_features, rf, labelConverter])"
        }, 
        {
            "cell_type": "markdown", 
            "metadata": {}, 
            "source": "Train your Random Forest model by using your pipeline with the train_data set."
        }, 
        {
            "cell_type": "code", 
            "metadata": {
                "collapsed": false
            }, 
            "outputs": [
                {
                    "name": "stdout", 
                    "text": "root\n |-- PRODUCT_LINE: string (nullable = true)\n |-- GENDER: string (nullable = true)\n |-- AGE: integer (nullable = true)\n |-- MARITAL_STATUS: string (nullable = true)\n |-- PROFESSION: string (nullable = true)\n\n", 
                    "output_type": "stream"
                }
            ], 
            "execution_count": 19, 
            "source": "train_data.printSchema()"
        }, 
        {
            "cell_type": "code", 
            "metadata": {
                "collapsed": false
            }, 
            "outputs": [], 
            "execution_count": 20, 
            "source": "model_rf = pipeline_rf.fit(train_data)"
        }, 
        {
            "cell_type": "markdown", 
            "metadata": {}, 
            "source": "You can check your **model accuracy** now. Evaluate the model with the test_data set."
        }, 
        {
            "cell_type": "code", 
            "metadata": {
                "collapsed": false
            }, 
            "outputs": [
                {
                    "name": "stdout", 
                    "text": "Accuracy = 0.589319\nTest Error = 0.410681\n", 
                    "output_type": "stream"
                }
            ], 
            "execution_count": 21, 
            "source": "predictions = model_rf.transform(test_data)\nevaluatorRF = MulticlassClassificationEvaluator(labelCol=\"label\", predictionCol=\"prediction\", metricName=\"accuracy\")\naccuracy = evaluatorRF.evaluate(predictions)\nprint(\"Accuracy = %g\" % accuracy)\nprint(\"Test Error = %g\" % (1.0 - accuracy))"
        }, 
        {
            "cell_type": "markdown", 
            "metadata": {
                "collapsed": true
            }, 
            "source": "You can now tune your model to achieve better accuracy. For simplicity, the tuning section is omitted from this example."
        }, 
        {
            "cell_type": "markdown", 
            "metadata": {
                "collapsed": true
            }, 
            "source": "<a id=\"persistence\"></a>\n## 4. Persist the model"
        }, 
        {
            "cell_type": "markdown", 
            "metadata": {}, 
            "source": "In this section you will learn how to store your pipeline and model in Watson Machine Learning repository by using Python client libraries."
        }, 
        {
            "cell_type": "markdown", 
            "metadata": {
                "collapsed": true
            }, 
            "source": "First, you must import client libraries."
        }, 
        {
            "cell_type": "code", 
            "metadata": {
                "collapsed": true
            }, 
            "outputs": [], 
            "execution_count": 22, 
            "source": "from repository.mlrepositoryclient import MLRepositoryClient\nfrom repository.mlrepositoryartifact import MLRepositoryArtifact"
        }, 
        {
            "cell_type": "markdown", 
            "metadata": {}, 
            "source": "Put your authentication information from your instance of the Watson Machine Learning service on Bluemix in the next cell. You can find your information on the **Service Credentials** tab of your service instance in Bluemix."
        }, 
        {
            "cell_type": "code", 
            "metadata": {
                "collapsed": true
            }, 
            "outputs": [], 
            "execution_count": 23, 
            "source": "service_path = 'https://ibm-watson-ml.stage1.mybluemix.net'\nusername = '827b8bbc-c0b7-4994-b3cf-0cb45371bad7'\npassword = '030528d4-5a3e-4d4c-9258-5d553513be6f'"
        }, 
        {
            "cell_type": "markdown", 
            "metadata": {}, 
            "source": "Authorize the repository client:"
        }, 
        {
            "cell_type": "code", 
            "metadata": {
                "collapsed": false
            }, 
            "outputs": [], 
            "execution_count": 24, 
            "source": "ml_repository_client = MLRepositoryClient(service_path)\nml_repository_client.authorize(username, password)"
        }, 
        {
            "cell_type": "markdown", 
            "metadata": {}, 
            "source": "Create the model artifact (abstraction layer)."
        }, 
        {
            "cell_type": "code", 
            "metadata": {
                "collapsed": false
            }, 
            "outputs": [], 
            "execution_count": 25, 
            "source": "model_artifact = MLRepositoryArtifact(model_rf, training_data=train_data, name=\"Product Line Prediction Model\")"
        }, 
        {
            "cell_type": "markdown", 
            "metadata": {}, 
            "source": "**Tip**: The MLRepositoryArtifact method expects a trained model object, training data, and a model name. (It is this model name that is displayed by the Watson Machine Learning service)."
        }, 
        {
            "cell_type": "markdown", 
            "metadata": {}, 
            "source": "### 4.1: Save the pipeline and model"
        }, 
        {
            "cell_type": "markdown", 
            "metadata": {}, 
            "source": "Save pipeline and model artifacts to your Watson Machine Learning instance:"
        }, 
        {
            "cell_type": "code", 
            "metadata": {
                "collapsed": false
            }, 
            "outputs": [], 
            "execution_count": 26, 
            "source": "saved_model = ml_repository_client.models.save(model_artifact)"
        }, 
        {
            "cell_type": "markdown", 
            "metadata": {}, 
            "source": "Get the saved model metadata from Watson Machine Learning. Use the *meta.available_props()* method to get the list of available props."
        }, 
        {
            "cell_type": "code", 
            "metadata": {
                "collapsed": false
            }, 
            "outputs": [
                {
                    "metadata": {}, 
                    "output_type": "execute_result", 
                    "data": {
                        "text/plain": "['inputDataSchema',\n 'modelVersionHref',\n 'pipelineVersionHref',\n 'trainingDataRef',\n 'pipelineType',\n 'creationTime',\n 'lastUpdated',\n 'label',\n 'authorEmail',\n 'trainingDataSchema',\n 'authorName',\n 'version',\n 'modelType',\n 'runtime']"
                    }, 
                    "execution_count": 27
                }
            ], 
            "execution_count": 27, 
            "source": "saved_model.meta.available_props()"
        }, 
        {
            "cell_type": "code", 
            "metadata": {
                "collapsed": false
            }, 
            "outputs": [
                {
                    "name": "stdout", 
                    "text": "modelType: sparkml-model-2.0\ntrainingDataSchema: {u'fields': [{u'nullable': True, u'type': u'string', u'name': u'PRODUCT_LINE', u'metadata': {}}, {u'nullable': True, u'type': u'string', u'name': u'GENDER', u'metadata': {}}, {u'nullable': True, u'type': u'integer', u'name': u'AGE', u'metadata': {}}, {u'nullable': True, u'type': u'string', u'name': u'MARITAL_STATUS', u'metadata': {}}, {u'nullable': True, u'type': u'string', u'name': u'PROFESSION', u'metadata': {}}], u'type': u'struct'}\ncreationTime: 2017-03-22 10:39:23.126000+00:00\nmodelVersionHref: https://ibm-watson-ml.stage1.mybluemix.net/v2/artifacts/models/e3250d67-04c6-4788-8f62-6ea8d8806464/versions/51841d33-b644-4acb-a4c0-0cafa6bd67c2\nlabel: PRODUCT_LINE\n", 
                    "output_type": "stream"
                }
            ], 
            "execution_count": 28, 
            "source": "print \"modelType: \" + saved_model.meta.prop(\"modelType\")\nprint \"trainingDataSchema: \" + str(saved_model.meta.prop(\"trainingDataSchema\"))\nprint \"creationTime: \" + str(saved_model.meta.prop(\"creationTime\"))\nprint \"modelVersionHref: \" + saved_model.meta.prop(\"modelVersionHref\")\nprint \"label: \" + saved_model.meta.prop(\"label\")"
        }, 
        {
            "cell_type": "markdown", 
            "metadata": {}, 
            "source": "**Tip**: **modelVersionHref** is our model unique indentifier in the Watson Machine Learning repository."
        }, 
        {
            "cell_type": "markdown", 
            "metadata": {}, 
            "source": "### 4.2: Load the model"
        }, 
        {
            "cell_type": "markdown", 
            "metadata": {}, 
            "source": "Load the saved model from the specified instance of Watson Machine Learning:"
        }, 
        {
            "cell_type": "code", 
            "metadata": {
                "collapsed": false
            }, 
            "outputs": [], 
            "execution_count": 29, 
            "source": "loadedModelArtifact = ml_repository_client.models.get(saved_model.uid)"
        }, 
        {
            "cell_type": "markdown", 
            "metadata": {}, 
            "source": "You can print for example model name to make sure that model has been loaded correctly."
        }, 
        {
            "cell_type": "code", 
            "metadata": {
                "collapsed": false
            }, 
            "outputs": [
                {
                    "name": "stdout", 
                    "text": "Product Line Prediction Model\n", 
                    "output_type": "stream"
                }
            ], 
            "execution_count": 30, 
            "source": "print str(loadedModelArtifact.name)"
        }, 
        {
            "cell_type": "markdown", 
            "metadata": {}, 
            "source": "As you can see the name is correct. You have learned how save and load the model from Watson Machine Learning repository."
        }, 
        {
            "cell_type": "markdown", 
            "metadata": {}, 
            "source": "<a id=\"visualization\"></a>\n## 5. Predict locally and visualize"
        }, 
        {
            "cell_type": "markdown", 
            "metadata": {}, 
            "source": "In this section you will learn how to score test data using loaded model and visualize the prediction results with the Plotly package."
        }, 
        {
            "cell_type": "markdown", 
            "metadata": {}, 
            "source": "### 5.1: Make a local prediction using previously loaded model and test data"
        }, 
        {
            "cell_type": "markdown", 
            "metadata": {}, 
            "source": "Score the predict_data data set:"
        }, 
        {
            "cell_type": "code", 
            "metadata": {
                "collapsed": true
            }, 
            "outputs": [], 
            "execution_count": 31, 
            "source": "predictions = loadedModelArtifact.model_instance().transform(predict_data)"
        }, 
        {
            "cell_type": "markdown", 
            "metadata": {}, 
            "source": "Preview the results by calling the *show()* method on the predictions DataFrame."
        }, 
        {
            "cell_type": "code", 
            "metadata": {
                "collapsed": false
            }, 
            "outputs": [
                {
                    "name": "stdout", 
                    "text": "+-----------------+------+---+--------------+-----------+-----+-------------+---------+-----------------+------------------+--------------------+--------------------+----------+--------------------+\n|     PRODUCT_LINE|GENDER|AGE|MARITAL_STATUS| PROFESSION|label|PROFESSION_IX|GENDER_IX|MARITAL_STATUS_IX|          features|       rawPrediction|         probability|prediction|      predictedLabel|\n+-----------------+------+---+--------------+-----------+-----+-------------+---------+-----------------+------------------+--------------------+--------------------+----------+--------------------+\n|Camping Equipment|     F| 18|        Single|      Other|  0.0|          0.0|      1.0|              1.0|[1.0,18.0,1.0,0.0]|[5.54119162527029...|[0.27705958126351...|       1.0|Personal Accessories|\n|Camping Equipment|     F| 18|        Single|     Retail|  0.0|          7.0|      1.0|              1.0|[1.0,18.0,1.0,7.0]|[1.69052858961399...|[0.08452642948069...|       1.0|Personal Accessories|\n|Camping Equipment|     F| 19|        Single|Hospitality|  0.0|          5.0|      1.0|              1.0|[1.0,19.0,1.0,5.0]|[13.1008984346869...|[0.65504492173434...|       0.0|   Camping Equipment|\n|Camping Equipment|     F| 19|        Single|Hospitality|  0.0|          5.0|      1.0|              1.0|[1.0,19.0,1.0,5.0]|[13.1008984346869...|[0.65504492173434...|       0.0|   Camping Equipment|\n|Camping Equipment|     F| 19|        Single|Hospitality|  0.0|          5.0|      1.0|              1.0|[1.0,19.0,1.0,5.0]|[13.1008984346869...|[0.65504492173434...|       0.0|   Camping Equipment|\n+-----------------+------+---+--------------+-----------+-----+-------------+---------+-----------------+------------------+--------------------+--------------------+----------+--------------------+\nonly showing top 5 rows\n\n", 
                    "output_type": "stream"
                }
            ], 
            "execution_count": 27, 
            "source": "predictions.show(5)"
        }, 
        {
            "cell_type": "markdown", 
            "metadata": {}, 
            "source": "Tabulate a count to see which product line is the most popular:"
        }, 
        {
            "cell_type": "code", 
            "metadata": {
                "collapsed": false
            }, 
            "outputs": [
                {
                    "name": "stdout", 
                    "text": "+--------------------+-----+\n|      predictedLabel|count|\n+--------------------+-----+\n|   Camping Equipment|  717|\n|      Golf Equipment|   61|\n|Mountaineering Eq...|   75|\n|Personal Accessories|  363|\n+--------------------+-----+\n\n", 
                    "output_type": "stream"
                }
            ], 
            "execution_count": 32, 
            "source": "predictions.select(\"predictedLabel\").groupBy(\"predictedLabel\").count().show()"
        }, 
        {
            "cell_type": "markdown", 
            "metadata": {}, 
            "source": "### 5.2: Sample visualization of data with Plotly package"
        }, 
        {
            "cell_type": "markdown", 
            "metadata": {}, 
            "source": "In this subsection you will explore prediction results with Plotly, which is an online analytics and data visualization tool."
        }, 
        {
            "cell_type": "markdown", 
            "metadata": {}, 
            "source": "**Example**: First, you need to install required packages. You can do it by running the following code. Run it only one time.<BR><BR>\n!pip install plotly --user <BR>\n!pip install cufflinks --user"
        }, 
        {
            "cell_type": "markdown", 
            "metadata": {}, 
            "source": "Import Plotly and other required packages."
        }, 
        {
            "cell_type": "code", 
            "metadata": {
                "collapsed": false
            }, 
            "outputs": [
                {
                    "metadata": {}, 
                    "output_type": "display_data", 
                    "data": {
                        "text/html": "<script>requirejs.config({paths: { 'plotly': ['https://cdn.plot.ly/plotly-latest.min']},});if(!window.Plotly) {{require(['plotly'],function(plotly) {window.Plotly=plotly;});}}</script>", 
                        "text/plain": "<IPython.core.display.HTML object>"
                    }
                }
            ], 
            "execution_count": 33, 
            "source": "import sys\nimport pandas\nimport plotly.plotly as py\nfrom plotly.offline import download_plotlyjs, init_notebook_mode, plot, iplot\nimport cufflinks as cf\nimport plotly.graph_objs as go\ninit_notebook_mode(connected=True)\nsys.path.append(\"\".join([os.environ[\"HOME\"]])) "
        }, 
        {
            "cell_type": "markdown", 
            "metadata": {}, 
            "source": "Convert the Apache Spark DataFrame to a Pandas DataFrame."
        }, 
        {
            "cell_type": "code", 
            "metadata": {
                "collapsed": false
            }, 
            "outputs": [], 
            "execution_count": 34, 
            "source": "predictions_pdf = predictions.select(\"prediction\", \"predictedLabel\", \"GENDER\", \"AGE\", \"PROFESSION\", \"MARITAL_STATUS\").toPandas()"
        }, 
        {
            "cell_type": "markdown", 
            "metadata": {}, 
            "source": "Plot a pie chart that shows the predicted product-line interest."
        }, 
        {
            "cell_type": "code", 
            "metadata": {
                "collapsed": false
            }, 
            "outputs": [
                {
                    "metadata": {}, 
                    "output_type": "display_data", 
                    "data": {
                        "text/html": "<div id=\"888f2e67-8b8f-4e99-892a-b50d8d22fbdd\" style=\"height: 525px; width: 100%;\" class=\"plotly-graph-div\"></div><script type=\"text/javascript\">require([\"plotly\"], function(Plotly) { window.PLOTLYENV=window.PLOTLYENV || {};window.PLOTLYENV.BASE_URL=\"https://plot.ly\";Plotly.newPlot(\"888f2e67-8b8f-4e99-892a-b50d8d22fbdd\", [{\"type\": \"pie\", \"labels\": [\"Camping Equipment\", \"Golf Equipment\", \"Mountaineering Equipment\", \"Personal Accessories\"], \"values\": [717, 61, 75, 363]}], {\"title\": \"Predicted product line client interest distribution\"}, {\"linkText\": \"Export to plot.ly\", \"showLink\": true})});</script>", 
                        "application/vnd.plotly.v1+json": {
                            "data": [
                                {
                                    "labels": [
                                        "Camping Equipment", 
                                        "Golf Equipment", 
                                        "Mountaineering Equipment", 
                                        "Personal Accessories"
                                    ], 
                                    "values": [
                                        717, 
                                        61, 
                                        75, 
                                        363
                                    ], 
                                    "type": "pie"
                                }
                            ], 
                            "layout": {
                                "title": "Predicted product line client interest distribution"
                            }
                        }
                    }
                }
            ], 
            "execution_count": 35, 
            "source": "cumulative_stats = predictions_pdf.groupby(['predictedLabel']).count()\n\nproduct_data = [go.Pie(\n            labels=cumulative_stats.index,\n            values=cumulative_stats['GENDER'],\n    )]\n\nproduct_layout = go.Layout(\n    title='Predicted product line client interest distribution',\n)\n\nfig = go.Figure(data=product_data, layout=product_layout)\niplot(fig)"
        }, 
        {
            "cell_type": "markdown", 
            "metadata": {}, 
            "source": "With this data set, you might want to do some analysis of the mean AGE per product line by using a bar chart."
        }, 
        {
            "cell_type": "code", 
            "metadata": {
                "collapsed": false
            }, 
            "outputs": [
                {
                    "metadata": {}, 
                    "output_type": "display_data", 
                    "data": {
                        "text/html": "<div id=\"615a4054-920c-499e-a64d-82b031646ab2\" style=\"height: 525px; width: 100%;\" class=\"plotly-graph-div\"></div><script type=\"text/javascript\">require([\"plotly\"], function(Plotly) { window.PLOTLYENV=window.PLOTLYENV || {};window.PLOTLYENV.BASE_URL=\"https://plot.ly\";Plotly.newPlot(\"615a4054-920c-499e-a64d-82b031646ab2\", [{\"y\": [32.94002789400279, 49.83606557377049, 36.053333333333335, 32.8099173553719], \"x\": [\"Camping Equipment\", \"Golf Equipment\", \"Mountaineering Equipment\", \"Personal Accessories\"], \"type\": \"bar\"}], {\"title\": \"Mean AGE per predicted product line\", \"xaxis\": {\"showline\": false, \"title\": \"Product Line\"}, \"yaxis\": {\"title\": \"Mean AGE\"}}, {\"linkText\": \"Export to plot.ly\", \"showLink\": true})});</script>", 
                        "application/vnd.plotly.v1+json": {
                            "data": [
                                {
                                    "type": "bar", 
                                    "y": [
                                        32.94002789400279, 
                                        49.83606557377049, 
                                        36.053333333333335, 
                                        32.8099173553719
                                    ], 
                                    "x": [
                                        "Camping Equipment", 
                                        "Golf Equipment", 
                                        "Mountaineering Equipment", 
                                        "Personal Accessories"
                                    ]
                                }
                            ], 
                            "layout": {
                                "xaxis": {
                                    "showline": false, 
                                    "title": "Product Line"
                                }, 
                                "yaxis": {
                                    "title": "Mean AGE"
                                }, 
                                "title": "Mean AGE per predicted product line"
                            }
                        }
                    }
                }
            ], 
            "execution_count": 36, 
            "source": "age_data = [go.Bar(\n            y=predictions_pdf.groupby(['predictedLabel']).mean()[\"AGE\"],\n            x=cumulative_stats.index\n            \n    )]\n\nage_layout = go.Layout(\n    title='Mean AGE per predicted product line',\n    xaxis=dict(\n        title = \"Product Line\",\n        showline=False,),\n    yaxis=dict(\n        title = \"Mean AGE\",\n        ),\n)\n\nfig = go.Figure(data=age_data, layout=age_layout)\niplot(fig)"
        }, 
        {
            "cell_type": "markdown", 
            "metadata": {}, 
            "source": "Based on bar plot you created, you might make the following conclusion: The mean age for clients that are interested in golf equipment is predicted to be over 50 years old."
        }, 
        {
            "cell_type": "markdown", 
            "metadata": {}, 
            "source": "<a id=\"scoring\"></a>\n## 6. Deploy and score in a Cloud"
        }, 
        {
            "cell_type": "markdown", 
            "metadata": {}, 
            "source": "In this section you will learn how to create online scoring and to score a new data record by using the Watson Machine Learning REST API. \nFor more information about REST APIs, see the [Watson Machine Learning API Documentation](http://watson-ml-api.mybluemix.net/)."
        }, 
        {
            "cell_type": "markdown", 
            "metadata": {
                "collapsed": true
            }, 
            "source": "To work with the Watson Machine Leraning REST API, generate an access token:"
        }, 
        {
            "cell_type": "code", 
            "metadata": {
                "collapsed": false
            }, 
            "outputs": [], 
            "execution_count": 90, 
            "source": "import urllib3, requests, json\n\nheaders = urllib3.util.make_headers(basic_auth='{}:{}'.format(username, password))\nurl = '{}/v2/identity/token'.format(service_path)\nresponse = requests.get(url, headers=headers)\nmltoken = json.loads(response.text).get('token')"
        }, 
        {
            "cell_type": "markdown", 
            "metadata": {}, 
            "source": "### 6.1: Create an online scoring endpoint"
        }, 
        {
            "cell_type": "markdown", 
            "metadata": {}, 
            "source": "Now you can create an online scoring endpoint. Execute the following sample code that uses the **modelVersionHref** value to create the scoring endpoint to the Bluemix repository."
        }, 
        {
            "cell_type": "code", 
            "metadata": {
                "collapsed": false
            }, 
            "outputs": [
                {
                    "name": "stdout", 
                    "text": "<Response [201]>\n{\"metadata\":{\"guid\":\"971\",\"href\":\"https://ibm-watson-ml.stage1.mybluemix.net/v2/online/deployments/971\",\"createdAt\":\"2017-03-20T10:44:39.869Z\",\"modifiedAt\":\"2017-03-20T10:44:39.869Z\"},\"entity\":{\"scoringHref\":\"https://ibm-watson-ml.stage1.mybluemix.net/32768/v2/scoring/971\"}}\nhttps://ibm-watson-ml.stage1.mybluemix.net/32768/v2/scoring/971\n", 
                    "output_type": "stream"
                }
            ], 
            "execution_count": 93, 
            "source": "endpoint_online = service_path + \"/v2/online/deployments/\"\nheader_online = {'Content-Type': 'application/json', 'Authorization': mltoken}\npayload_online = {\"artifactVersionHref\": saved_model.meta.prop(\"modelVersionHref\"), \"name\": \"Product Line Prediction\"}\n\nresponse_online = requests.post(endpoint_online, json=payload_online, headers=header_online)\n\nprint response_online\nprint response_online.text\n\nscoring_href = json.loads(response_online.text).get('entity').get('scoringHref')\nprint scoring_href"
        }, 
        {
            "cell_type": "markdown", 
            "metadata": {}, 
            "source": "Send (PUT) new scoring records (new data) for which you would like to get predictions:"
        }, 
        {
            "cell_type": "code", 
            "metadata": {
                "collapsed": false
            }, 
            "outputs": [
                {
                    "name": "stdout", 
                    "text": "{\"result\":{\"PROFESSION_IX\":6.0,\"GENDER_IX\":0.0,\"MARITAL_STATUS_IX\":1.0,\"GENDER\":\"M\",\"features\":{\"values\":[0.0,23.0,1.0,6.0]},\"predictedLabel\":\"Personal Accessories\",\"prediction\":1.0,\"AGE\":23,\"MARITAL_STATUS\":\"Single\",\"rawPrediction\":{\"values\":[5.600716147152702,6.482458372136143,6.048004170730676,0.20929155492307386,1.6595297550574055]},\"PROFESSION\":\"Student\",\"probability\":{\"values\":[0.2800358073576351,0.32412291860680714,0.3024002085365338,0.010464577746153694,0.08297648775287028]}}}\n", 
                    "output_type": "stream"
                }
            ], 
            "execution_count": 95, 
            "source": "payload_scoring = {\"record\":[\"M\", 23, \"Single\", \"Student\"]}\nresponse_scoring = requests.put(scoring_href, json=payload_scoring, headers=header_online)\n\nprint response_scoring.text"
        }, 
        {
            "cell_type": "markdown", 
            "metadata": {}, 
            "source": "The prediction is that a 23-year-old male student is interested in personal accessories (predictedLabel: Personal Accessories, prediction: 1.0)."
        }, 
        {
            "cell_type": "markdown", 
            "metadata": {
                "collapsed": true
            }, 
            "source": "<a id=\"summary\"></a>\n## 7. Summary and next steps     "
        }, 
        {
            "cell_type": "markdown", 
            "metadata": {
                "collapsed": true
            }, 
            "source": " You successfully completed this notebook! You learned how to use Apache Spark machine learning as well as Watson Machine Learning for model creation and deployment. Check out our _[Online Documentation](https://apsportal.ibm.com/docs/content/getting-started/get-started.html)_ for more samples, tutorials, documentation, how-tos, and blog posts. "
        }, 
        {
            "cell_type": "markdown", 
            "metadata": {}, 
            "source": "### Authors\n\n**Lukasz Cmielowski**, PhD, is a Automation Architect and Data Scientist in IBM with a track record of developing enterprise-level applications that substantially increases clients' ability to turn data into actionable knowledge."
        }, 
        {
            "cell_type": "markdown", 
            "metadata": {}, 
            "source": "Copyright \u00a9 2017 IBM. This notebook and its source code are released under the terms of the MIT License."
        }
    ], 
    "metadata": {
        "kernelspec": {
            "display_name": "Python 2 with Spark 2.0", 
            "name": "python2-spark20", 
            "language": "python"
        }, 
        "language_info": {
            "codemirror_mode": {
                "version": 2, 
                "name": "ipython"
            }, 
            "mimetype": "text/x-python", 
            "nbconvert_exporter": "python", 
            "pygments_lexer": "ipython2", 
            "version": "2.7.11", 
            "file_extension": ".py", 
            "name": "python"
        }
    }, 
    "nbformat_minor": 0, 
    "nbformat": 4
}